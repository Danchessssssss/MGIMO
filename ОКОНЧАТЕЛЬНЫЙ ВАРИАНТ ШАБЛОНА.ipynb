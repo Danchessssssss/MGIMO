{
 "cells": [
  {
   "cell_type": "markdown",
   "id": "671c81cf",
   "metadata": {},
   "source": [
    "# Тип 1 Задача 1"
   ]
  },
  {
   "cell_type": "markdown",
   "id": "cd55e985",
   "metadata": {},
   "source": [
    "Для датасета TableF5-1 оцените logit-регрессию LFP~WE+KL6+K618+CIT+UN+np.log(FAMINC) . Укажите коэффициент при регрессоре UN. Ответ округлите до 2 десятичных знаков.\n",
    "Дайте интерпретацию этого коэффициента (на ноутбуке)"
   ]
  },
  {
   "cell_type": "code",
   "execution_count": 17,
   "id": "4eed243f",
   "metadata": {},
   "outputs": [
    {
     "name": "stdout",
     "output_type": "stream",
     "text": [
      "Коэффициент для UN: -0.03\n"
     ]
    }
   ],
   "source": [
    "import pandas as pd\n",
    "import numpy as np\n",
    "import statsmodels.api as sm\n",
    "from statsmodels.discrete.discrete_model import Logit\n",
    "\n",
    "# Загрузка данных\n",
    "file_path = 'TableF5-1.csv'\n",
    "data = pd.read_csv(file_path)\n",
    "\n",
    "# Создание логарифма FAMINC\n",
    "data['log_FAMINC'] = np.log(data['FAMINC'])\n",
    "\n",
    "# Определение зависимой переменной для Logit-модели\n",
    "dependent_var = data['LFP']\n",
    "\n",
    "# Независимые переменные для Logit-модели\n",
    "independent_vars_logit = data[['WE', 'KL6', 'K618', 'CIT', 'UN', 'log_FAMINC']]\n",
    "\n",
    "# Оценка Logit-модели\n",
    "logit_model = Logit(dependent_var, sm.add_constant(independent_vars_logit)).fit(disp=0)\n",
    "\n",
    "# Получение коэффициента для переменной UN\n",
    "un_coefficient = logit_model.params['UN']\n",
    "\n",
    "# Форматированный вывод коэффициента UN\n",
    "print(\"Коэффициент для UN:\", round(un_coefficient, 2))\n"
   ]
  },
  {
   "cell_type": "markdown",
   "id": "300895b4",
   "metadata": {},
   "source": [
    "# Тип 1 Задача 2"
   ]
  },
  {
   "cell_type": "markdown",
   "id": "2fd8ca8b",
   "metadata": {},
   "source": [
    "Для датасета Table 5-1 оцените LPM-регрессию LFP~WE+KL6+K618+CIT+UN+np.log (FAMINC). Укажите коэффициент пои регрессове WE. Ответ округлите до 2 десятичных знаков.\n",
    "даите интерпретацию этого коэффициента (на ноутоуке)"
   ]
  },
  {
   "cell_type": "code",
   "execution_count": 31,
   "id": "dda7e05b",
   "metadata": {},
   "outputs": [
    {
     "name": "stdout",
     "output_type": "stream",
     "text": [
      "Коэффициент для WE: 0.04\n"
     ]
    }
   ],
   "source": [
    "import pandas as pd\n",
    "import numpy as np\n",
    "import statsmodels.api as sm\n",
    "\n",
    "# Загрузка данных\n",
    "data = pd.read_csv('TableF5-1.csv')\n",
    "\n",
    "# Создание логарифма FAMINC\n",
    "data['log_FAMINC'] = np.log(data['FAMINC'])\n",
    "\n",
    "# Определение зависимой и независимых переменных для LPM-модели\n",
    "dependent_var = data['LFP']\n",
    "independent_vars_lpm = data[['WE', 'KL6', 'K618', 'CIT', 'UN', 'log_FAMINC']]\n",
    "\n",
    "# Оценка LPM-регрессии\n",
    "lpm_model = sm.OLS(dependent_var, sm.add_constant(independent_vars_lpm)).fit()\n",
    "\n",
    "# Получение коэффициента для переменной WE\n",
    "we_coefficient = lpm_model.params['WE']\n",
    "\n",
    "# Вывод коэффициента WE\n",
    "print(\"Коэффициент для WE:\", round(we_coefficient, 2))\n"
   ]
  },
  {
   "cell_type": "markdown",
   "id": "fdc5917a",
   "metadata": {},
   "source": [
    "# Тип 2 Задача 1"
   ]
  },
  {
   "cell_type": "markdown",
   "id": "975bcd1e",
   "metadata": {},
   "source": [
    "Для датасета TableF5-1 оцените probit-регрессию LFP~WA+I(WA**2)+CIT +UN+np.Log(FAMINC). Тестируется значимость коэффициента при WA\n",
    "Укажите тестовую статистику, критическое значение и сделайте вывод. Ответы округлите до 2 десятичных знаков. Уровень значимости 1%"
   ]
  },
  {
   "cell_type": "code",
   "execution_count": 32,
   "id": "6b123191",
   "metadata": {},
   "outputs": [
    {
     "name": "stdout",
     "output_type": "stream",
     "text": [
      "Тестовая статистика: 1.71\n",
      "Критическое значение при уровне значимости 1%: 2.58\n",
      "Вывод: Коэффициент при WA не является статистически значимым на уровне 1%.\n"
     ]
    }
   ],
   "source": [
    "import pandas as pd\n",
    "import numpy as np\n",
    "import statsmodels.api as sm\n",
    "from statsmodels.discrete.discrete_model import Probit\n",
    "from scipy.stats import t\n",
    "\n",
    "# Загрузка данных\n",
    "file_path = 'TableF5-1.csv'\n",
    "data = pd.read_csv(file_path)\n",
    "\n",
    "# Создание необходимых переменных\n",
    "data['WA2'] = data['WA'] ** 2\n",
    "data['log_FAMINC'] = np.log(data['FAMINC'])\n",
    "\n",
    "# Определение зависимой переменной для Probit-модели\n",
    "dependent_var = data['LFP']\n",
    "\n",
    "# Независимые переменные для Probit-модели\n",
    "independent_vars_probit = data[['WA', 'WA2', 'CIT', 'UN', 'log_FAMINC']]\n",
    "\n",
    "# Оценка Probit-модели\n",
    "probit_model = Probit(dependent_var, sm.add_constant(independent_vars_probit)).fit(disp=0)\n",
    "\n",
    "# Получение t-статистики и p-значения для коэффициента при WA\n",
    "wa_t_statistic = probit_model.tvalues['WA']\n",
    "wa_p_value = probit_model.pvalues['WA']\n",
    "\n",
    "# Определение степеней свободы\n",
    "df = probit_model.df_resid\n",
    "\n",
    "# Определение критического значения для уровня значимости 1% (двусторонний тест)\n",
    "critical_value = t.ppf(1 - 0.01/2, df)\n",
    "\n",
    "# Форматированный вывод результатов и вывод о значимости коэффициента\n",
    "significance_output = f\"Тестовая статистика: {wa_t_statistic_rounded}\\n\" \\\n",
    "                      f\"Критическое значение при уровне значимости 1%: {critical_value_rounded}\\n\"\n",
    "\n",
    "# Делаем вывод о значимости коэффициента\n",
    "if abs(wa_t_statistic_rounded) > critical_value_rounded:\n",
    "    significance_output += \"Вывод: Коэффициент при WA статистически значим на уровне 1%.\"\n",
    "else:\n",
    "    significance_output += \"Вывод: Коэффициент при WA не является статистически значимым на уровне 1%.\"\n",
    "\n",
    "print(significance_output)"
   ]
  },
  {
   "cell_type": "markdown",
   "id": "e29803b7",
   "metadata": {},
   "source": [
    "# Тип 2 Задача 2"
   ]
  },
  {
   "cell_type": "markdown",
   "id": "edad346b",
   "metadata": {},
   "source": [
    "Для датасета TableF5-1 оцените LPM-регрессию LFP~WE+KL6+K618+CIT+UN+np.log(FAMINC) . Тестируется значимость коэффициента при WE\n",
    "\n",
    "Укажите тестовую статистику, критическое значение и сделайте вывод. Ответы округлите до 2 десятичных знаков. Уровень значимости 10%"
   ]
  },
  {
   "cell_type": "code",
   "execution_count": 35,
   "id": "28d85204",
   "metadata": {},
   "outputs": [
    {
     "name": "stdout",
     "output_type": "stream",
     "text": [
      "Тестовая статистика: 5.31\n",
      "Критическое значение: 1.65\n",
      "Вывод: статистически значим\n"
     ]
    }
   ],
   "source": [
    "import pandas as pd\n",
    "import numpy as np\n",
    "import statsmodels.api as sm\n",
    "from scipy.stats import t\n",
    "\n",
    "# Загрузка данных\n",
    "data = pd.read_csv('TableF5-1.csv')\n",
    "\n",
    "# Создание логарифма FAMINC\n",
    "data['log_FAMINC'] = np.log(data['FAMINC'])\n",
    "\n",
    "# Определение зависимой и независимых переменных для LPM-модели\n",
    "dependent_var = data['LFP']\n",
    "independent_vars_lpm = data[['WE', 'KL6', 'K618', 'CIT', 'UN', 'log_FAMINC']]\n",
    "\n",
    "# Оценка LPM-регрессии\n",
    "lpm_model = sm.OLS(dependent_var, sm.add_constant(independent_vars_lpm)).fit()\n",
    "\n",
    "# Получение t-статистики и p-значения для коэффициента при WE\n",
    "we_t_statistic = lpm_model.tvalues['WE']\n",
    "we_p_value = lpm_model.pvalues['WE']\n",
    "\n",
    "# Определение степеней свободы\n",
    "df = lpm_model.df_resid\n",
    "\n",
    "# Определение критического значения для уровня значимости 10% (двусторонний тест)\n",
    "critical_value = t.ppf(1 - 0.10/2, df)\n",
    "\n",
    "# Вывод результатов\n",
    "print(\"Тестовая статистика:\", round(we_t_statistic, 2))\n",
    "print(\"Критическое значение:\", round(critical_value, 2))\n",
    "\n",
    "# Сделать вывод о значимости коэффициента\n",
    "if abs(we_t_statistic) > critical_value:\n",
    "    print(\"Вывод: статистически значим\")\n",
    "else:\n",
    "    print(\"Вывод: не является статистически значимым\")\n"
   ]
  },
  {
   "cell_type": "markdown",
   "id": "b62b34af",
   "metadata": {},
   "source": [
    "# Тип 3 Задача 1"
   ]
  },
  {
   "cell_type": "markdown",
   "id": "81f4533e",
   "metadata": {},
   "source": [
    "Для латасета TableF5-1 оцените LPM-регрессию LFP~WA+I(WA**2)+K618+CIT+UN и тестируйте ее значимость\n",
    "Укажите тестовую статистики. критическое значение и слелайте\n",
    "вывод. Ответы округлите до 2 десятичных знаков. Уровень значимости 1%"
   ]
  },
  {
   "cell_type": "code",
   "execution_count": 10,
   "id": "b81fd96c",
   "metadata": {},
   "outputs": [
    {
     "name": "stdout",
     "output_type": "stream",
     "text": [
      "{'Тестовая статистика': 2.67, 'Критическое значение': 3.04, 'P-value': 0.0213}\n"
     ]
    }
   ],
   "source": [
    "from scipy.stats import f\n",
    "import statsmodels.api as sm\n",
    "import pandas as pd\n",
    "import numpy as np\n",
    "\n",
    "# Загрузка данных\n",
    "file_path = 'TableF5-1.csv'\n",
    "data = pd.read_csv(file_path)\n",
    "\n",
    "# Создание новой переменной WA^2\n",
    "data['WA2'] = data['WA'] ** 2\n",
    "\n",
    "# Определение зависимой и независимых переменных\n",
    "dependent_var = data['LFP']  \n",
    "independent_vars = data[['WA', 'WA2', 'K618', 'CIT', 'UN']] #Заменить каждый объект в кавычках \n",
    "independent_vars = sm.add_constant(independent_vars)  \n",
    "\n",
    "# Оценка LPM регрессии\n",
    "lpm_model = sm.OLS(dependent_var, independent_vars).fit()\n",
    "\n",
    "# Получение значений для F-теста\n",
    "f_statistic = lpm_model.fvalue\n",
    "f_pvalue = lpm_model.f_pvalue\n",
    "df_model = lpm_model.df_model\n",
    "df_resid = lpm_model.df_resid\n",
    "\n",
    "# Уровень значимости\n",
    "alpha = 0.01\n",
    "\n",
    "# Критическое значение F-статистики\n",
    "f_critical = f.ppf(1 - alpha, df_model, df_resid)\n",
    "\n",
    "# Форматированный вывод результатов\n",
    "formatted_output = {\n",
    "    \"Тестовая статистика\": round(f_statistic, 2),\n",
    "    \"Критическое значение\": round(f_critical, 2),\n",
    "    \"P-value\": round(f_pvalue, 4)\n",
    "}\n",
    "\n",
    "print(formatted_output)\n"
   ]
  },
  {
   "cell_type": "markdown",
   "id": "82c287f1",
   "metadata": {},
   "source": [
    "# Тип 3 Задача 2"
   ]
  },
  {
   "cell_type": "markdown",
   "id": "f1828a9a",
   "metadata": {},
   "source": [
    "Для датасета TableF5-1 оцените logit-регрессию LFP~WA+I(WA**2)+CIT+UN+np.log(FAMINC) и тестируйте её значимость. Укажите тестовую статистику. критическое значение и сделайте вывод. Ответы округлите до 2 десятичных знаков. Уровень значимости 1%"
   ]
  },
  {
   "cell_type": "code",
   "execution_count": 21,
   "id": "429a4a82",
   "metadata": {},
   "outputs": [
    {
     "name": "stdout",
     "output_type": "stream",
     "text": [
      "Тестовая статистика: 25.48\n",
      "Критическое значение при уровне значимости 1%: 15.09\n"
     ]
    }
   ],
   "source": [
    "import pandas as pd\n",
    "import numpy as np\n",
    "import statsmodels.api as sm\n",
    "from statsmodels.discrete.discrete_model import Logit\n",
    "from scipy.stats import chi2\n",
    "\n",
    "# Загрузка данных\n",
    "file_path = 'TableF5-1.csv'\n",
    "data = pd.read_csv(file_path)\n",
    "\n",
    "# Создание необходимых переменных\n",
    "data['WA2'] = data['WA'] ** 2\n",
    "data['log_FAMINC'] = np.log(data['FAMINC'])\n",
    "\n",
    "# Определение зависимой переменной для Logit-модели\n",
    "dependent_var = data['LFP']\n",
    "\n",
    "# Независимые переменные для Logit-модели\n",
    "independent_vars_logit = data[['WA', 'WA2', 'CIT', 'UN', 'log_FAMINC']]\n",
    "\n",
    "# Оценка Logit-модели\n",
    "logit_model = Logit(dependent_var, sm.add_constant(independent_vars_logit)).fit(disp=0)\n",
    "\n",
    "# Выполнение LR-теста\n",
    "lr_test_statistic = -2 * (logit_model.llnull - logit_model.llf)\n",
    "lr_df = logit_model.df_model\n",
    "\n",
    "# Критическое значение для LR-теста на уровне значимости 1%\n",
    "lr_critical_value = chi2.ppf(0.99, lr_df)\n",
    "\n",
    "# Форматированный вывод результатов\n",
    "lr_test_statistic_rounded = round(lr_test_statistic, 2)\n",
    "lr_critical_value_rounded = round(lr_critical_value, 2)\n",
    "\n",
    "# Вывод результатов\n",
    "print(\"Тестовая статистика:\", lr_test_statistic_rounded)\n",
    "print(\"Критическое значение при уровне значимости 1%:\", lr_critical_value_rounded)"
   ]
  },
  {
   "cell_type": "markdown",
   "id": "0ae5e161",
   "metadata": {},
   "source": [
    "# Тип 3 Задача 3"
   ]
  },
  {
   "cell_type": "markdown",
   "id": "86f1f699",
   "metadata": {},
   "source": [
    "Для датасета TableF5-1 оцените LPM-регрессию LFP-WA+I(WA**2)+CIT+UN+np.log(FAMINC) и тестируйте её значимость. Укажите тестовую статистику, критическое значение и сделайте вывол. Ответы округлите до 2 десятичных знаков. Уровень значимости 5%"
   ]
  },
  {
   "cell_type": "code",
   "execution_count": 37,
   "id": "b7499da6",
   "metadata": {},
   "outputs": [
    {
     "name": "stdout",
     "output_type": "stream",
     "text": [
      "Тестовая статистика: 5.17\n",
      "Критическое значение при уровне значимости 5%: 2.23\n",
      "Вывод: Регрессия значима на уровне 5%.\n"
     ]
    }
   ],
   "source": [
    "import pandas as pd\n",
    "import numpy as np\n",
    "import statsmodels.api as sm\n",
    "from scipy.stats import f\n",
    "\n",
    "# Загрузка данных\n",
    "data = pd.read_csv('TableF5-1.csv')\n",
    "\n",
    "# Создание необходимых переменных\n",
    "data['WA2'] = data['WA'] ** 2\n",
    "data['log_FAMINC'] = np.log(data['FAMINC'])\n",
    "\n",
    "# Определение зависимой и независимых переменных для LPM-модели\n",
    "dependent_var = data['LFP']\n",
    "independent_vars_lpm = data[['WA', 'WA2', 'CIT', 'UN', 'log_FAMINC']]\n",
    "\n",
    "# Оценка LPM-регрессии\n",
    "lpm_model = sm.OLS(dependent_var, sm.add_constant(independent_vars_lpm)).fit()\n",
    "\n",
    "# Получение F-статистики и p-значения\n",
    "f_test_statistic = lpm_model.fvalue\n",
    "f_test_pvalue = lpm_model.f_pvalue\n",
    "\n",
    "# Определение критического значения для F-теста на уровне значимости 5%\n",
    "dfn, dfd = lpm_model.df_model, lpm_model.df_resid\n",
    "f_critical = f.ppf(0.95, dfn, dfd)\n",
    "\n",
    "# Вывод результатов\n",
    "print(\"Тестовая статистика:\", round(f_test_statistic, 2))\n",
    "print(\"Критическое значение при уровне значимости 5%:\", round(f_critical, 2))\n",
    "\n",
    "# Вывод о значимости модели\n",
    "if f_test_statistic > f_critical:\n",
    "    print(\"Вывод: Регрессия значима на уровне 5%.\")\n",
    "else:\n",
    "    print(\"Вывод: Регрессия не значима на уровне 5%.\")\n"
   ]
  },
  {
   "cell_type": "markdown",
   "id": "508c5e9b",
   "metadata": {},
   "source": [
    "# Тип 3 Задача 4"
   ]
  },
  {
   "cell_type": "markdown",
   "id": "5f41ea73",
   "metadata": {},
   "source": [
    "Для датасета TableF5-1 оцените logit-регрессию LFP~K618+CIT+UN и тестируйте её значимость. Укажите тестовую статистику, критическое значение и сделайте вывод. Ответы округлите до 2 десятичных знаков. Уровень значимости 10%"
   ]
  },
  {
   "cell_type": "code",
   "execution_count": 47,
   "id": "790caf41",
   "metadata": {},
   "outputs": [
    {
     "name": "stdout",
     "output_type": "stream",
     "text": [
      "Optimization terminated successfully.\n",
      "         Current function value: 0.683347\n",
      "         Iterations 4\n",
      "Тестовая статистика: 0.63\n",
      "Критическое значение: 6.25\n",
      "Регрессия не является статистически значимой.\n"
     ]
    }
   ],
   "source": [
    "import pandas as pd\n",
    "import statsmodels.api as sm\n",
    "from scipy.stats import chi2\n",
    "\n",
    "# Загрузка данных\n",
    "file_path = 'TableF5-1.csv'\n",
    "data = pd.read_csv(file_path)\n",
    "\n",
    "# Выбор нужных колонок для анализа\n",
    "data_analysis = data[['LFP', 'K618', 'CIT', 'UN']]\n",
    "\n",
    "# Определение зависимой и независимых переменных\n",
    "X = data_analysis[['K618', 'CIT', 'UN']]  # Независимые переменные\n",
    "y = data_analysis['LFP']  # Зависимая переменная\n",
    "\n",
    "# Добавление константы к независимым переменным\n",
    "X = sm.add_constant(X)\n",
    "\n",
    "# Оценка логит-регрессии\n",
    "logit_model = sm.Logit(y, X).fit()\n",
    "\n",
    "# Получение логарифмической функции правдоподобия для полной и нулевой модели\n",
    "ll_full = logit_model.llf  # Для полной модели\n",
    "ll_null = logit_model.llnull  # Для нулевой модели\n",
    "\n",
    "# Расчет тестовой статистики для теста отношения правдоподобия\n",
    "llr = -2 * (ll_null - ll_full)\n",
    "\n",
    "# Количество коэффициентов в модели (за исключением константы)\n",
    "num_coeffs = len(logit_model.params) - 1\n",
    "\n",
    "# Расчет критического значения для уровня значимости 10%\n",
    "critical_value = chi2.ppf(0.90, df=num_coeffs)\n",
    "\n",
    "# Вывод результатов\n",
    "print(f\"Тестовая статистика: {llr:.2f}\")\n",
    "print(f\"Критическое значение: {critical_value:.2f}\")\n",
    "\n",
    "# Вывод о значимости модели\n",
    "if llr > critical_value:\n",
    "    print(\"Регрессия статистически значима.\")\n",
    "else:\n",
    "    print(\"Регрессия не является статистически значимой.\")\n"
   ]
  },
  {
   "cell_type": "markdown",
   "id": "3fc503e1",
   "metadata": {},
   "source": [
    "# Тип 4 Задача 1"
   ]
  },
  {
   "cell_type": "markdown",
   "id": "d8b37ecd",
   "metadata": {},
   "source": [
    "Для датасета TableF5-1 оцените probit-регрессию LFP~WA+I(WA**2)+CIT+UN+np.log(FAMINC). Tестируите совместную значимость СІT, UN используя LR-тест. Укажите тестову\n",
    "статистик. критическое значение и слелайте вывол\n",
    "Ответы округлите до 2 десятичных знаков. Уровень значимости 5%"
   ]
  },
  {
   "cell_type": "code",
   "execution_count": 12,
   "id": "d327a71f",
   "metadata": {},
   "outputs": [
    {
     "name": "stdout",
     "output_type": "stream",
     "text": [
      "Тестовая статистика LR-теста: 1.72\n",
      "Критическое значение при уровне значимости 5%: 3.01\n",
      "P-значение: 0.1791\n",
      "Вывод: совместное влияние CIT и UN не является статистически значимым.\n"
     ]
    }
   ],
   "source": [
    "from statsmodels.discrete.discrete_model import Probit\n",
    "import statsmodels.api as sm\n",
    "import pandas as pd\n",
    "import numpy as np\n",
    "from scipy.stats import f\n",
    "\n",
    "# Загрузка данных\n",
    "file_path = 'TableF5-1.csv'\n",
    "data = pd.read_csv(file_path)\n",
    "\n",
    "# Создание переменных для модели\n",
    "data['WA2'] = data['WA'] ** 2\n",
    "data['log_FAMINC'] = np.log(data['FAMINC'])\n",
    "\n",
    "# Определение зависимой переменной для Probit-модели\n",
    "dependent_var = data['LFP']\n",
    "\n",
    "# Независимые переменные для полной модели\n",
    "independent_vars_probit = data[['WA', 'WA2', 'CIT', 'UN', 'log_FAMINC']]\n",
    "\n",
    "# Независимые переменные для сокращенной модели (без CIT и UN)\n",
    "independent_vars_probit_reduced = data[['WA', 'WA2', 'log_FAMINC']]\n",
    "\n",
    "# Оценка полной Probit-модели\n",
    "probit_model_full = Probit(dependent_var, sm.add_constant(independent_vars_probit)).fit(disp=0)\n",
    "\n",
    "# Оценка сокращенной Probit-модели\n",
    "probit_model_reduced = Probit(dependent_var, sm.add_constant(independent_vars_probit_reduced)).fit(disp=0)\n",
    "\n",
    "# Выполнение LR-теста\n",
    "lr_test = 2 * (probit_model_full.llf - probit_model_reduced.llf)\n",
    "lr_df = probit_model_full.df_model - probit_model_reduced.df_model\n",
    "lr_pvalue = 1 - f.cdf(lr_test, lr_df, df_resid)\n",
    "\n",
    "# Критическое значение для LR-теста на уровне значимости 5%\n",
    "lr_critical = f.ppf(0.95, lr_df, df_resid)\n",
    "\n",
    "# Форматированный вывод результатов\n",
    "print(\"Тестовая статистика LR-теста:\", round(lr_test, 2))\n",
    "print(\"Критическое значение при уровне значимости 5%:\", round(lr_critical, 2))\n",
    "print(\"P-значение:\", round(lr_pvalue, 4))\n",
    "\n",
    "# Вывод о совместном влиянии\n",
    "if lr_test > lr_critical:\n",
    "    print(\"Вывод: совместное влияние CIT и UN статистически значимо.\")\n",
    "else:\n",
    "    print(\"Вывод: совместное влияние CIT и UN не является статистически значимым.\")\n"
   ]
  },
  {
   "cell_type": "markdown",
   "id": "f64b1442",
   "metadata": {},
   "source": [
    "# Тип 4 Задача 2"
   ]
  },
  {
   "cell_type": "markdown",
   "id": "bc2062df",
   "metadata": {},
   "source": [
    "Для датасета TableF5-1 оцените LPM-регрессию LFP~WA+I(WA**2)+WE+KL6+K618+CIT+UN+np.log(FAMINC). Тестируйте совместную значимость CIT, UN, np.log (FAMINC). Укажите\n",
    "тестовую статистику, критическое значение и сделате вывод."
   ]
  },
  {
   "cell_type": "code",
   "execution_count": 22,
   "id": "3a0f0385",
   "metadata": {},
   "outputs": [
    {
     "name": "stdout",
     "output_type": "stream",
     "text": [
      "Тестовая статистика: 1.77\n",
      "Критическое значение при уровне значимости 10%: 2.09\n",
      "Вывод: совместное влияние не значимо\n"
     ]
    }
   ],
   "source": [
    "import pandas as pd\n",
    "import numpy as np\n",
    "import statsmodels.api as sm\n",
    "from scipy.stats import f\n",
    "\n",
    "# Загрузка данных\n",
    "file_path = 'TableF5-1.csv'\n",
    "data = pd.read_csv(file_path)\n",
    "\n",
    "# Создание необходимых переменных\n",
    "data['WA2'] = data['WA'] ** 2\n",
    "data['log_FAMINC'] = np.log(data['FAMINC'])\n",
    "\n",
    "# Определение зависимой переменной для LPM-модели\n",
    "dependent_var = data['LFP']\n",
    "\n",
    "# Независимые переменные для LPM-модели\n",
    "independent_vars_lpm = data[['WA', 'WA2', 'WE', 'KL6', 'K618', 'CIT', 'UN', 'log_FAMINC']]\n",
    "\n",
    "# Оценка LPM-регрессии\n",
    "lpm_model = sm.OLS(dependent_var, sm.add_constant(independent_vars_lpm)).fit()\n",
    "\n",
    "# Выполнение F-теста для проверки совместной значимости CIT, UN и np.log(FAMINC)\n",
    "hypotheses = 'CIT = UN = log_FAMINC = 0'\n",
    "f_test_result = lpm_model.f_test(hypotheses)\n",
    "\n",
    "# Получение тестовой статистики и p-значения\n",
    "f_test_statistic = f_test_result.fvalue\n",
    "f_test_pvalue = f_test_result.pvalue\n",
    "\n",
    "# Округление результатов\n",
    "f_test_statistic_rounded = round(f_test_statistic, 2)\n",
    "f_test_pvalue_rounded = round(f_test_pvalue, 4)\n",
    "\n",
    "# Определение критического значения для F-теста на уровне значимости 10%\n",
    "f_critical_value = f.ppf(0.90, f_test_result.df_num, lpm_model.df_resid)\n",
    "f_critical_value_rounded = round(f_critical_value, 2)\n",
    "\n",
    "# Формирование вывода\n",
    "if f_test_statistic_rounded > f_critical_value_rounded:\n",
    "    conclusion = \"совместное влияние значимо\"\n",
    "else:\n",
    "    conclusion = \"совместное влияние не значимо\"\n",
    "\n",
    "# Вывод результатов\n",
    "print(\"Тестовая статистика:\", f_test_statistic_rounded)\n",
    "print(\"Критическое значение при уровне значимости 10%:\", f_critical_value_rounded)\n",
    "print(\"Вывод:\", conclusion)\n"
   ]
  },
  {
   "cell_type": "markdown",
   "id": "c17e608d",
   "metadata": {},
   "source": [
    "# Тип 4 Задача 3"
   ]
  },
  {
   "cell_type": "markdown",
   "id": "9d093347",
   "metadata": {},
   "source": [
    "Для датасета TableF5-1 оцените logit-регрессию LFP~WA+I(WA**2)+WE+KL6+K618+CIT+UN+np.log(FAMINC). \n",
    "Тестируйте совместную значимость CIT, UN, np.log (FAMINC) используя тест\n",
    "вальда. \n",
    "Укажите тестовую статистику, критическое значение и сделате вывод\n",
    "Ответы округлите ло 2 десятичных знаков. Уровень значимости 1%."
   ]
  },
  {
   "cell_type": "code",
   "execution_count": 40,
   "id": "b738d304",
   "metadata": {},
   "outputs": [
    {
     "name": "stdout",
     "output_type": "stream",
     "text": [
      "Optimization terminated successfully.\n",
      "         Current function value: 0.614104\n",
      "         Iterations 5\n",
      "Тестовая статистика: 5.19\n",
      "Критическое значение при уровне значимости 1%: 11.34\n",
      "Вывод: совместное влияние не значимо.\n"
     ]
    },
    {
     "name": "stderr",
     "output_type": "stream",
     "text": [
      "/Users/daniildvoreckij/anaconda3/lib/python3.11/site-packages/statsmodels/base/model.py:1906: FutureWarning: The behavior of wald_test will change after 0.14 to returning scalar test statistic values. To get the future behavior now, set scalar to True. To silence this message while retaining the legacy behavior, set scalar to False.\n",
      "  warnings.warn(\n"
     ]
    }
   ],
   "source": [
    "import pandas as pd\n",
    "import numpy as np\n",
    "import statsmodels.api as sm\n",
    "from statsmodels.discrete.discrete_model import Logit\n",
    "from scipy.stats import chi2\n",
    "\n",
    "# Загрузка данных\n",
    "data = pd.read_csv('TableF5-1.csv')\n",
    "\n",
    "# Создание необходимых переменных\n",
    "data['log_FAMINC'] = np.log(data['FAMINC'])\n",
    "\n",
    "# Определение зависимой и независимых переменных для Logit-модели\n",
    "dependent_var = data['LFP']\n",
    "independent_vars_logit = data[['WA', 'WE', 'KL6', 'K618', 'CIT', 'UN', 'log_FAMINC']]\n",
    "\n",
    "# Оценка Logit-модели\n",
    "logit_model = Logit(dependent_var, sm.add_constant(independent_vars_logit)).fit()\n",
    "\n",
    "# Формирование гипотезы для теста Вальда\n",
    "hypothesis = '(CIT = 0), (UN = 0), (log_FAMINC = 0)'\n",
    "\n",
    "# Выполнение теста Вальда\n",
    "wald_test_result = logit_model.wald_test(hypothesis)\n",
    "\n",
    "# Получение тестовой статистики и p-значения\n",
    "wald_test_statistic = wald_test_result.statistic.item()  # Извлечение значения из массива\n",
    "wald_test_pvalue = wald_test_result.pvalue\n",
    "\n",
    "# Определение критического значения для Chi-squared теста на уровне значимости 1%\n",
    "df = 3  # Количество тестируемых переменных\n",
    "chi_critical_value = chi2.ppf(0.99, df)\n",
    "\n",
    "# Вывод результатов\n",
    "print(\"Тестовая статистика:\", round(wald_test_statistic, 2))\n",
    "print(\"Критическое значение при уровне значимости 1%:\", round(chi_critical_value, 2))\n",
    "\n",
    "# Вывод о значимости\n",
    "if wald_test_statistic > chi_critical_value:\n",
    "    print(\"Вывод: совместное влияние значимо.\")\n",
    "else:\n",
    "    print(\"Вывод: совместное влияние не значимо.\")"
   ]
  },
  {
   "cell_type": "markdown",
   "id": "61c933be",
   "metadata": {},
   "source": []
  },
  {
   "cell_type": "markdown",
   "id": "8f62a14b",
   "metadata": {},
   "source": [
    "# Тип 4 Задача 4"
   ]
  },
  {
   "cell_type": "markdown",
   "id": "819e8c69",
   "metadata": {},
   "source": [
    "Для датасета TableF5-1 оцените probit-регрессию LFP~KL6+K618+CIT+UN. Тестируйте совместную значимость KL6,K618 используя LR-тест. Укажите тестовую статистику, критическое значение и сделайте вывод.\n",
    "Ответы округлите до 2 десятичных знаков. Уровень значимости 10%"
   ]
  },
  {
   "cell_type": "code",
   "execution_count": 48,
   "id": "93dd4dc9",
   "metadata": {},
   "outputs": [
    {
     "name": "stdout",
     "output_type": "stream",
     "text": [
      "Optimization terminated successfully.\n",
      "         Current function value: 0.659854\n",
      "         Iterations 5\n",
      "Optimization terminated successfully.\n",
      "         Current function value: 0.683351\n",
      "         Iterations 4\n",
      "Тестовая статистика LR-теста: 35.39\n",
      "Критическое значение: 4.61\n",
      "Совместное влияние KL6 и K618 статистически значимо.\n"
     ]
    }
   ],
   "source": [
    "import pandas as pd\n",
    "import statsmodels.api as sm\n",
    "from statsmodels.discrete.discrete_model import Probit\n",
    "from scipy.stats import chi2\n",
    "\n",
    "# Загрузка данных\n",
    "file_path = 'TableF5-1.csv'\n",
    "data = pd.read_csv(file_path)\n",
    "\n",
    "# Определение зависимой и независимых переменных для полной модели\n",
    "y = data['LFP']\n",
    "X_full = data[['KL6', 'K618', 'CIT', 'UN']]\n",
    "X_full = sm.add_constant(X_full)\n",
    "\n",
    "# Оценка полной probit-модели\n",
    "probit_model_full = Probit(y, X_full).fit()\n",
    "\n",
    "# Определение независимых переменных для ограниченной модели (без KL6 и K618)\n",
    "X_restricted = data[['CIT', 'UN']]\n",
    "X_restricted = sm.add_constant(X_restricted)\n",
    "\n",
    "# Оценка ограниченной probit-модели\n",
    "probit_model_restricted = Probit(y, X_restricted).fit()\n",
    "\n",
    "# Расчет логарифмической функции правдоподобия для полной и ограниченной моделей\n",
    "ll_full = probit_model_full.llf  # Для полной модели\n",
    "ll_restricted = probit_model_restricted.llf  # Для ограниченной модели\n",
    "\n",
    "# Расчет тестовой статистики LR-теста\n",
    "lr_statistic = -2 * (ll_restricted - ll_full)\n",
    "\n",
    "# Количество ограниченных параметров\n",
    "num_restricted_params = 2\n",
    "\n",
    "# Расчет критического значения для уровня значимости 10%\n",
    "critical_value_lr = chi2.ppf(0.90, df=num_restricted_params)\n",
    "\n",
    "# Вывод результатов\n",
    "print(f\"Тестовая статистика LR-теста: {lr_statistic:.2f}\")\n",
    "print(f\"Критическое значение: {critical_value_lr:.2f}\")\n",
    "\n",
    "# Вывод о значимости\n",
    "if lr_statistic > critical_value_lr:\n",
    "    print(\"Совместное влияние KL6 и K618 статистически значимо.\")\n",
    "else:\n",
    "    print(\"Совместное влияние KL6 и K618 не является статистически значимым.\")\n"
   ]
  },
  {
   "cell_type": "markdown",
   "id": "9035f6fe",
   "metadata": {},
   "source": [
    "# Тип 4 Задача 5"
   ]
  },
  {
   "cell_type": "markdown",
   "id": "2f5daa0a",
   "metadata": {},
   "source": [
    "Для датасета TableF5-1 оцените probit-регрессию LFP~KL6+K618+CIT+UN. Тестируйте совместную значимость KL6,K618 используя LR-тест. Укажите тестовую статистику, критическое значение и сделайте вывод.\n",
    "Ответы округлите до 2 десятичных знаков. Уровень значимости 10%"
   ]
  },
  {
   "cell_type": "code",
   "execution_count": 55,
   "id": "cba8b7e2",
   "metadata": {
    "scrolled": false
   },
   "outputs": [
    {
     "name": "stdout",
     "output_type": "stream",
     "text": [
      "Optimization terminated successfully.\n",
      "         Current function value: 0.659854\n",
      "         Iterations 5\n",
      "                          Probit Regression Results                           \n",
      "==============================================================================\n",
      "Dep. Variable:                    LFP   No. Observations:                  753\n",
      "Model:                         Probit   Df Residuals:                      748\n",
      "Method:                           MLE   Df Model:                            4\n",
      "Date:                Thu, 18 Jan 2024   Pseudo R-squ.:                 0.03497\n",
      "Time:                        20:23:35   Log-Likelihood:                -496.87\n",
      "converged:                       True   LL-Null:                       -514.87\n",
      "Covariance Type:            nonrobust   LLR p-value:                 2.885e-07\n",
      "==============================================================================\n",
      "                 coef    std err          z      P>|z|      [0.025      0.975]\n",
      "------------------------------------------------------------------------------\n",
      "Intercept      0.3967      0.151      2.622      0.009       0.100       0.693\n",
      "KL6           -0.5442      0.095     -5.743      0.000      -0.730      -0.359\n",
      "K618           0.0167      0.035      0.472      0.637      -0.053       0.086\n",
      "CIT           -0.0234      0.099     -0.236      0.814      -0.218       0.171\n",
      "UN            -0.0120      0.015     -0.791      0.429      -0.042       0.018\n",
      "==============================================================================\n",
      "LR-статистика: 35.39\n",
      "Критическое значение (10% уровень значимости): 4.61\n",
      "P-значение: 2.07e-08\n",
      "Отвергаем нулевую гипотезу, переменные KL6 и K618 совместно значимы.\n"
     ]
    }
   ],
   "source": [
    "import pandas as pd\n",
    "import statsmodels.api as sm\n",
    "from statsmodels.formula.api import probit\n",
    "from scipy.stats import chi2\n",
    "\n",
    "# Загрузка данных\n",
    "file_path = 'TableF5-1.csv'\n",
    "data = pd.read_csv(file_path)\n",
    "\n",
    "# Оценка probit-модели\n",
    "model = probit('LFP ~ KL6 + K618 + CIT + UN', data)\n",
    "result = model.fit()\n",
    "print(result.summary())\n",
    "\n",
    "# Оценка ограниченной модели без KL6 и K618\n",
    "restricted_model = probit('LFP ~ CIT + UN', data)\n",
    "restricted_result = restricted_model.fit(disp=0)\n",
    "\n",
    "# Вычисление LR-статистики\n",
    "lr_stat = 2 * (result.llf - restricted_result.llf)\n",
    "lr_df = result.df_model - restricted_result.df_model  # Разница в степенях свободы\n",
    "lr_p_value = chi2.sf(lr_stat, lr_df)  # P-значение\n",
    "\n",
    "# Критическое значение при уровне значимости 10%\n",
    "alpha = 0.10\n",
    "chi2_critical_value = chi2.ppf(1 - alpha, lr_df)\n",
    "\n",
    "# Вывод результатов\n",
    "print(f\"LR-статистика: {lr_stat:.2f}\")\n",
    "print(f\"Критическое значение (10% уровень значимости): {chi2_critical_value:.2f}\")\n",
    "print(f\"P-значение: {lr_p_value:.2e}\")\n",
    "\n",
    "# Проверка значимости\n",
    "if lr_stat > chi2_critical_value:\n",
    "    print(\"Отвергаем нулевую гипотезу, переменные KL6 и K618 совместно значимы.\")\n",
    "else:\n",
    "    print(\"Не отвергаем нулевую гипотезу, переменные KL6 и K618 не имеют совместной значимости.\")\n"
   ]
  },
  {
   "cell_type": "markdown",
   "id": "8bcfb11b",
   "metadata": {},
   "source": [
    "# Тип 4 Задача 6"
   ]
  },
  {
   "cell_type": "markdown",
   "id": "4f99a849",
   "metadata": {},
   "source": [
    "Для датасета TableF5-1 оцените logit-регрессию LFP~WA+I(WA**2)+WE+KL6+K618+CIT+UN+np.log(FAMINC). Тестируйте совместную значимость WA, I(WA**2) используя тест Вальда. Укажите тестовую статистику, критическое значение и сделайте вывод.\n",
    "Ответы округлите до 2 десятичных знаков. Уровень значимости 10%."
   ]
  },
  {
   "cell_type": "code",
   "execution_count": 56,
   "id": "b8d6725e",
   "metadata": {},
   "outputs": [
    {
     "name": "stdout",
     "output_type": "stream",
     "text": [
      "Optimization terminated successfully.\n",
      "         Current function value: 0.613860\n",
      "         Iterations 5\n",
      "                           Logit Regression Results                           \n",
      "==============================================================================\n",
      "Dep. Variable:                    LFP   No. Observations:                  753\n",
      "Model:                          Logit   Df Residuals:                      744\n",
      "Method:                           MLE   Df Model:                            8\n",
      "Date:                Thu, 18 Jan 2024   Pseudo R-squ.:                  0.1022\n",
      "Time:                        20:47:45   Log-Likelihood:                -462.24\n",
      "converged:                       True   LL-Null:                       -514.87\n",
      "Covariance Type:            nonrobust   LLR p-value:                 3.554e-19\n",
      "==================================================================================\n",
      "                     coef    std err          z      P>|z|      [0.025      0.975]\n",
      "----------------------------------------------------------------------------------\n",
      "Intercept         -3.2407      2.834     -1.144      0.253      -8.795       2.313\n",
      "WA                 0.0070      0.116      0.060      0.952      -0.220       0.234\n",
      "I(WA ** 2)        -0.0008      0.001     -0.606      0.544      -0.003       0.002\n",
      "WE                 0.1800      0.040      4.453      0.000       0.101       0.259\n",
      "KL6               -1.4138      0.199     -7.115      0.000      -1.803      -1.024\n",
      "K618              -0.1042      0.069     -1.517      0.129      -0.239       0.030\n",
      "CIT               -0.2165      0.177     -1.227      0.220      -0.562       0.129\n",
      "UN                -0.0176      0.026     -0.681      0.496      -0.068       0.033\n",
      "np.log(FAMINC)     0.3331      0.173      1.927      0.054      -0.006       0.672\n",
      "==================================================================================\n",
      "Тестовая статистика Вальда: 25.53\n",
      "Критическое значение (10% уровень значимости): 4.61\n",
      "Отвергаем нулевую гипотезу, переменные WA и I(WA**2) совместно значимы.\n"
     ]
    },
    {
     "name": "stderr",
     "output_type": "stream",
     "text": [
      "/Users/daniildvoreckij/anaconda3/lib/python3.11/site-packages/statsmodels/base/model.py:1906: FutureWarning: The behavior of wald_test will change after 0.14 to returning scalar test statistic values. To get the future behavior now, set scalar to True. To silence this message while retaining the legacy behavior, set scalar to False.\n",
      "  warnings.warn(\n"
     ]
    }
   ],
   "source": [
    "import pandas as pd\n",
    "import numpy as np\n",
    "import statsmodels.api as sm\n",
    "from statsmodels.formula.api import logit\n",
    "from scipy.stats import chi2\n",
    "\n",
    "# Загрузка данных\n",
    "file_path = 'TableF5-1.csv'\n",
    "data = pd.read_csv(file_path)\n",
    "\n",
    "# Оценка logit-модели\n",
    "logit_model = logit('LFP ~ WA + I(WA**2) + WE + KL6 + K618 + CIT + UN + np.log(FAMINC)', data)\n",
    "logit_result = logit_model.fit()\n",
    "print(logit_result.summary())\n",
    "\n",
    "# Вычисление теста Вальда для WA и I(WA**2)\n",
    "wald_test_result = logit_result.wald_test(['WA', 'I(WA ** 2)'])\n",
    "wald_stat = wald_test_result.statistic.item()  # Извлечение скалярного значения\n",
    "\n",
    "# Критическое значение при уровне значимости 10%\n",
    "alpha = 0.10\n",
    "wald_critical_value = chi2.ppf(1 - alpha, 2)  # 2 переменные тестируются\n",
    "\n",
    "# Вывод результатов\n",
    "print(f\"Тестовая статистика Вальда: {wald_stat:.2f}\")\n",
    "print(f\"Критическое значение (10% уровень значимости): {wald_critical_value:.2f}\")\n",
    "\n",
    "# Проверка значимости\n",
    "if wald_stat > wald_critical_value:\n",
    "    print(\"Отвергаем нулевую гипотезу, переменные WA и I(WA**2) совместно значимы.\")\n",
    "else:\n",
    "    print(\"Не отвергаем нулевую гипотезу, переменные WA и I(WA**2) не имеют совместной значимости.\")\n"
   ]
  },
  {
   "cell_type": "markdown",
   "id": "b6e73a95",
   "metadata": {},
   "source": [
    "# Тип 5 Задача 1 "
   ]
  },
  {
   "cell_type": "markdown",
   "id": "2977d490",
   "metadata": {},
   "source": [
    "Для латасета TableF5-1 оцените LPM-регрессию. LFP~WA+ I(WA**2)+WE+CIT+UN+np.log (FAMINC)\n",
    "Рассмотрим данные для трёх человек\n",
    "\n",
    "   WA  WE  CIT   UN  FAMINC\n",
    "   \n",
    "   \n",
    "0  32  15    1  3.0   35000\n",
    "\n",
    "​\n",
    "1  37  11    0  5.0   48500\n",
    "\n",
    "​\n",
    "2  40  13    1  7.5   67800\n",
    "\n",
    "​\n",
    "Постройте прогноз для третьего человека (индекс 2). Результат округлите до 2 десятичных знаков"
   ]
  },
  {
   "cell_type": "code",
   "execution_count": 50,
   "id": "7a48bb6a",
   "metadata": {},
   "outputs": [
    {
     "name": "stdout",
     "output_type": "stream",
     "text": [
      "Прогнозное значение LFP: 0.73\n"
     ]
    }
   ],
   "source": [
    "import pandas as pd\n",
    "import numpy as np\n",
    "import statsmodels.api as sm\n",
    "\n",
    "# Загрузка данных\n",
    "file_path = 'TableF5-1.csv'\n",
    "data = pd.read_csv(file_path)\n",
    "\n",
    "# Создание необходимых переменных\n",
    "data['WA2'] = data['WA'] ** 2\n",
    "data['log_FAMINC'] = np.log(data['FAMINC'])\n",
    "\n",
    "# Определение зависимой переменной для LPM-модели\n",
    "dependent_var = data['LFP']\n",
    "\n",
    "# Независимые переменные для LPM-модели\n",
    "independent_vars_lpm = data[['WA', 'WA2', 'WE', 'CIT', 'UN', 'log_FAMINC']]\n",
    "\n",
    "# Оценка LPM-регрессии\n",
    "lpm_model = sm.OLS(dependent_var, sm.add_constant(independent_vars_lpm)).fit()\n",
    "\n",
    "# Данные для прогноза (третий человек)\n",
    "predict_data = pd.DataFrame({\n",
    "    \"const\": 1,  #Сюда в квадратные скобки нужно вбить цифры из таблички (индекс - левый столбец)\n",
    "    \"WA\": [40],\n",
    "    \"WA2\": [40**2],\n",
    "    \"WE\": [13],\n",
    "    \"CIT\": [1],\n",
    "    \"UN\": [7.5],\n",
    "    \"log_FAMINC\": [np.log(67800)]\n",
    "})\n",
    "\n",
    "# Прогноз для третьего человека\n",
    "predicted_lfp = lpm_model.predict(predict_data)\n",
    "\n",
    "# Форматированный вывод прогноза\n",
    "predicted_lfp_rounded = round(predicted_lfp[0], 2)\n",
    "print(\"Прогнозное значение LFP:\", predicted_lfp_rounded)\n"
   ]
  },
  {
   "cell_type": "markdown",
   "id": "00affd4b",
   "metadata": {},
   "source": [
    "# Тип 6 Задача 1"
   ]
  },
  {
   "cell_type": "markdown",
   "id": "088bc939",
   "metadata": {},
   "source": [
    "Для датасета TableF5-1 оцените logit-регрессию LFP~np.log FAMINC+K618+CIT+UN\n",
    "и вычислите R^2_pseudo\n",
    " Ответ округлите до 3 десятичных знаков"
   ]
  },
  {
   "cell_type": "code",
   "execution_count": 13,
   "id": "67de9ad4",
   "metadata": {},
   "outputs": [
    {
     "name": "stdout",
     "output_type": "stream",
     "text": [
      "Псевдо-R-квадрат: 0.016\n"
     ]
    }
   ],
   "source": [
    "import pandas as pd\n",
    "import numpy as np\n",
    "import statsmodels.api as sm\n",
    "from statsmodels.discrete.discrete_model import Logit\n",
    "\n",
    "# Загрузка данных\n",
    "file_path = 'TableF5-1.csv'\n",
    "data = pd.read_csv(file_path)\n",
    "\n",
    "# Создание логарифма FAMINC\n",
    "data['log_FAMINC'] = np.log(data['FAMINC'])\n",
    "\n",
    "# Определение зависимой переменной для Logit-модели\n",
    "dependent_var = data['LFP']\n",
    "\n",
    "# Независимые переменные для Logit-модели\n",
    "independent_vars_logit = data[['log_FAMINC', 'K618', 'CIT', 'UN']]\n",
    "\n",
    "# Оценка Logit-модели\n",
    "logit_model = Logit(dependent_var, sm.add_constant(independent_vars_logit)).fit(disp=0)\n",
    "\n",
    "# Вычисление псевдо-R-квадрата\n",
    "pseudo_r_squared = logit_model.prsquared\n",
    "\n",
    "# Форматированный вывод псевдо-R-квадрата\n",
    "print(\"Псевдо-R-квадрат:\", round(pseudo_r_squared, 3))\n"
   ]
  },
  {
   "cell_type": "markdown",
   "id": "927bfa2a",
   "metadata": {},
   "source": [
    "# Тип 6 Задача 2"
   ]
  },
  {
   "cell_type": "markdown",
   "id": "53cf424b",
   "metadata": {},
   "source": [
    "Для датасета TableF5-1 оцените logit-регрессию\n",
    "LFP~WE+KL6+K618+CIT+UN+np.log(FAMINC) и вычислите R^2 pseudo \n",
    "Ответ округлите до 3 десятичных знаков."
   ]
  },
  {
   "cell_type": "code",
   "execution_count": 26,
   "id": "a015fa47",
   "metadata": {},
   "outputs": [
    {
     "name": "stdout",
     "output_type": "stream",
     "text": [
      "Optimization terminated successfully.\n",
      "         Current function value: 0.631705\n",
      "         Iterations 5\n",
      "0.076\n"
     ]
    }
   ],
   "source": [
    "import pandas as pd\n",
    "import numpy as np\n",
    "import statsmodels.api as sm\n",
    "from statsmodels.discrete.discrete_model import Logit\n",
    "\n",
    "# Загрузка данных\n",
    "data = pd.read_csv('TableF5-1.csv')\n",
    "\n",
    "# Создание логарифма FAMINC\n",
    "data['log_FAMINC'] = np.log(data['FAMINC'])\n",
    "\n",
    "# Определение зависимой и независимых переменных для Logit-модели\n",
    "dependent_var = data['LFP']\n",
    "independent_vars_logit = data[['WE', 'KL6', 'K618', 'CIT', 'UN', 'log_FAMINC']]\n",
    "\n",
    "# Оценка Logit-модели\n",
    "logit_model = Logit(dependent_var, sm.add_constant(independent_vars_logit)).fit()\n",
    "\n",
    "# Вычисление псевдо-R-квадрата\n",
    "pseudo_r_squared = logit_model.prsquared\n",
    "\n",
    "# Вывод псевдо-R-квадрата\n",
    "print(round(pseudo_r_squared, 3))\n"
   ]
  },
  {
   "cell_type": "markdown",
   "id": "91b50196",
   "metadata": {},
   "source": [
    "# Тип 6 Задача 3"
   ]
  },
  {
   "cell_type": "markdown",
   "id": "0c71affd",
   "metadata": {},
   "source": [
    "Для датасета TableF5-1 оцените probit-регрессию\n",
    "LFP~WA+I(WA**2)+WE+CIT+UN и вычислите R^2 pseudo \n",
    "Ответ округлите до 3 десятичных знаков."
   ]
  },
  {
   "cell_type": "code",
   "execution_count": 52,
   "id": "7e613835",
   "metadata": {},
   "outputs": [
    {
     "name": "stdout",
     "output_type": "stream",
     "text": [
      "Optimization terminated successfully.\n",
      "         Current function value: 0.659103\n",
      "         Iterations 5\n",
      "0.036\n"
     ]
    }
   ],
   "source": [
    "import pandas as pd\n",
    "import numpy as np\n",
    "import statsmodels.api as sm\n",
    "from statsmodels.discrete.discrete_model import Probit\n",
    "\n",
    "# Загрузка данных\n",
    "data = pd.read_csv('TableF5-1.csv')\n",
    "\n",
    "# Создание необходимых переменных\n",
    "data['WA2'] = data['WA'] ** 2\n",
    "\n",
    "# Определение зависимой и независимых переменных для Probit-модели\n",
    "dependent_var = data['LFP']\n",
    "independent_vars_probit = data[['WA', 'WA2', 'WE', 'CIT', 'UN']]\n",
    "\n",
    "# Оценка Probit-модели\n",
    "probit_model = Probit(dependent_var, sm.add_constant(independent_vars_probit)).fit()\n",
    "\n",
    "# Вычисление псевдо-R-квадрата\n",
    "pseudo_r_squared = probit_model.prsquared\n",
    "\n",
    "# Вывод псевдо-R-квадрата\n",
    "print(round(pseudo_r_squared, 3))"
   ]
  },
  {
   "cell_type": "markdown",
   "id": "9e58bd3f",
   "metadata": {},
   "source": [
    "# Тип 7 Задача 1"
   ]
  },
  {
   "cell_type": "markdown",
   "id": "0b2484a1",
   "metadata": {},
   "source": [
    "Для датасета Tab leF5-1 оцените probit-регрессию LFP~WA+I(WA**2) +FAMINC+I (FAMINC**2) +KL6+K618+CIT+UN\n",
    "Вычислите показатель качества подгонки Efron R2. Ответ округлите по 3 десятичных"
   ]
  },
  {
   "cell_type": "code",
   "execution_count": 14,
   "id": "a30d6797",
   "metadata": {},
   "outputs": [
    {
     "name": "stdout",
     "output_type": "stream",
     "text": [
      "Efron's R^2: 0.112\n"
     ]
    }
   ],
   "source": [
    "import pandas as pd\n",
    "import numpy as np\n",
    "import statsmodels.api as sm\n",
    "from statsmodels.discrete.discrete_model import Probit\n",
    "\n",
    "# Загрузка данных\n",
    "file_path = 'TableF5-1.csv'\n",
    "data = pd.read_csv(file_path)\n",
    "\n",
    "# Создание необходимых переменных\n",
    "data['WA2'] = data['WA'] ** 2\n",
    "data['FAMINC2'] = data['FAMINC'] ** 2\n",
    "\n",
    "# Определение зависимой переменной для Probit-модели\n",
    "dependent_var = data['LFP']\n",
    "\n",
    "# Независимые переменные для Probit-модели\n",
    "independent_vars_probit = data[['WA', 'WA2', 'FAMINC', 'FAMINC2', 'KL6', 'K618', 'CIT', 'UN']]\n",
    "\n",
    "# Оценка Probit-модели\n",
    "probit_model = Probit(dependent_var, sm.add_constant(independent_vars_probit)).fit(disp=0)\n",
    "\n",
    "# Вычисление предсказанных вероятностей\n",
    "predicted_probs = probit_model.predict(sm.add_constant(independent_vars_probit))\n",
    "\n",
    "# Вычисление Efron's R2\n",
    "y_mean = dependent_var.mean()\n",
    "ssr = sum((dependent_var - predicted_probs) ** 2)\n",
    "sst = sum((dependent_var - y_mean) ** 2)\n",
    "efron_r2 = 1 - ssr / sst\n",
    "\n",
    "# Форматированный вывод Efron's R2\n",
    "print(\"Efron's R^2:\", round(efron_r2, 3))\n"
   ]
  },
  {
   "cell_type": "markdown",
   "id": "47db9bd0",
   "metadata": {},
   "source": [
    "# Тип 7 Задача 2"
   ]
  },
  {
   "cell_type": "markdown",
   "id": "49c27f55",
   "metadata": {},
   "source": [
    "Для датасета TableF5-1 оцените probit-регрессию LFP~WA+I(WA**Z) +FAMINC+I(FAMINC**2)+KL6+K618+CIT+UN\n",
    "Вычислите показатель качества подгонки Mckelvey & Zavoina R2. Ответ округлите до 3 десятичных знаков"
   ]
  },
  {
   "cell_type": "code",
   "execution_count": 27,
   "id": "5356140a",
   "metadata": {},
   "outputs": [
    {
     "name": "stdout",
     "output_type": "stream",
     "text": [
      "Optimization terminated successfully.\n",
      "         Current function value: 0.625748\n",
      "         Iterations 5\n",
      "0.549\n"
     ]
    }
   ],
   "source": [
    "import pandas as pd\n",
    "import numpy as np\n",
    "import statsmodels.api as sm\n",
    "from statsmodels.discrete.discrete_model import Probit\n",
    "\n",
    "# Загрузка данных\n",
    "data = pd.read_csv('TableF5-1.csv')\n",
    "\n",
    "# Создание необходимых переменных\n",
    "data['FAMINC2'] = data['FAMINC'] ** 2\n",
    "\n",
    "# Определение зависимой и независимых переменных для Probit-модели\n",
    "dependent_var = data['LFP']\n",
    "independent_vars_probit = data[['WA', 'FAMINC', 'FAMINC2', 'KL6', 'K618', 'CIT', 'UN']]\n",
    "\n",
    "# Оценка Probit-модели\n",
    "probit_model = Probit(dependent_var, sm.add_constant(independent_vars_probit)).fit()\n",
    "\n",
    "# Вычисление показателя качества подгонки Mckelvey & Zavoina R2\n",
    "def mckelvey_zavoina_r2(model):\n",
    "    y_pred = model.predict()\n",
    "    y_mean = y_pred.mean()\n",
    "    ssr = sum((y_pred - y_mean) ** 2)\n",
    "    sst = sum((y_pred - y_pred**2) ** 2)\n",
    "    return ssr / sst\n",
    "\n",
    "mz_r2 = mckelvey_zavoina_r2(probit_model)\n",
    "\n",
    "# Вывод Mckelvey & Zavoina R2\n",
    "print(round(mz_r2, 3))\n"
   ]
  },
  {
   "cell_type": "markdown",
   "id": "a34f33e4",
   "metadata": {},
   "source": [
    "# Тип 7 Задача 3"
   ]
  },
  {
   "cell_type": "markdown",
   "id": "940bb0b1",
   "metadata": {},
   "source": [
    "Для латасета TableF5-1 оцените logit-регрессию LFP~WA+I(WA**2)+FAMINC+I(FAMINC**2) +WE\n",
    "Вычислите показатель качества подгонки McKelvey & Zavoina R2. Ответ округлите до 3 десятичных знаков"
   ]
  },
  {
   "cell_type": "code",
   "execution_count": 44,
   "id": "13e97dad",
   "metadata": {},
   "outputs": [
    {
     "name": "stdout",
     "output_type": "stream",
     "text": [
      "Optimization terminated successfully.\n",
      "         Current function value: 0.657282\n",
      "         Iterations 5\n",
      "0.233\n"
     ]
    }
   ],
   "source": [
    "import pandas as pd\n",
    "import numpy as np\n",
    "import statsmodels.api as sm\n",
    "from statsmodels.discrete.discrete_model import Logit\n",
    "\n",
    "# Загрузка данных\n",
    "data = pd.read_csv('TableF5-1.csv')\n",
    "\n",
    "# Создание необходимых переменных\n",
    "data['FAMINC2'] = data['FAMINC'] ** 2\n",
    "\n",
    "# Определение зависимой и независимых переменных для Logit-модели\n",
    "dependent_var = data['LFP']\n",
    "independent_vars_logit = data[['WA', 'WE', 'FAMINC', 'FAMINC2']]\n",
    "\n",
    "# Оценка Logit-модели\n",
    "logit_model = Logit(dependent_var, sm.add_constant(independent_vars_logit)).fit()\n",
    "\n",
    "# Функция для вычисления показателя качества подгонки McKelvey & Zavoina R2\n",
    "def mckelvey_zavoina_r2(model):\n",
    "    y_pred = model.predict()\n",
    "    y_mean = y_pred.mean()\n",
    "    ssr = sum((y_pred - y_mean) ** 2)\n",
    "    sst = sum((y_pred - y_pred**2) ** 2)\n",
    "    return ssr / sst\n",
    "\n",
    "# Вычисление McKelvey & Zavoina R2\n",
    "mz_r2 = mckelvey_zavoina_r2(logit_model)\n",
    "\n",
    "# Вывод McKelvey & Zavoina R2\n",
    "print(round(mz_r2, 3))\n"
   ]
  },
  {
   "cell_type": "markdown",
   "id": "901b94f0",
   "metadata": {},
   "source": [
    "# Тип 7 Задача 4"
   ]
  },
  {
   "cell_type": "markdown",
   "id": "94685484",
   "metadata": {},
   "source": [
    "Для датасета TableF5-1 оцените probit-регрессию LFP~WA+I(WA**2)+FAMINC+I(FAMINC**2)+KL6+K618+CIT+UN \n",
    "Вычислите показатель качества подгонки Cox & Snell R2. Ответ округлите до 3 десятичных знаков"
   ]
  },
  {
   "cell_type": "code",
   "execution_count": 57,
   "id": "58427ad2",
   "metadata": {},
   "outputs": [
    {
     "name": "stdout",
     "output_type": "stream",
     "text": [
      "Optimization terminated successfully.\n",
      "         Current function value: 0.625515\n",
      "         Iterations 5\n",
      "                          Probit Regression Results                           \n",
      "==============================================================================\n",
      "Dep. Variable:                    LFP   No. Observations:                  753\n",
      "Model:                         Probit   Df Residuals:                      744\n",
      "Method:                           MLE   Df Model:                            8\n",
      "Date:                Thu, 18 Jan 2024   Pseudo R-squ.:                 0.08519\n",
      "Time:                        20:55:30   Log-Likelihood:                -471.01\n",
      "converged:                       True   LL-Null:                       -514.87\n",
      "Covariance Type:            nonrobust   LLR p-value:                 1.348e-15\n",
      "==================================================================================\n",
      "                     coef    std err          z      P>|z|      [0.025      0.975]\n",
      "----------------------------------------------------------------------------------\n",
      "Intercept          0.8304      1.485      0.559      0.576      -2.081       3.742\n",
      "WA                -0.0014      0.070     -0.020      0.984      -0.138       0.135\n",
      "I(WA ** 2)        -0.0005      0.001     -0.592      0.554      -0.002       0.001\n",
      "FAMINC          4.397e-05   1.13e-05      3.899      0.000    2.19e-05    6.61e-05\n",
      "I(FAMINC ** 2) -4.576e-10   1.49e-10     -3.076      0.002   -7.49e-10   -1.66e-10\n",
      "KL6               -0.7906      0.113     -6.992      0.000      -1.012      -0.569\n",
      "K618              -0.0829      0.041     -2.015      0.044      -0.163      -0.002\n",
      "CIT               -0.1104      0.107     -1.036      0.300      -0.319       0.098\n",
      "UN                -0.0038      0.016     -0.243      0.808      -0.034       0.027\n",
      "==================================================================================\n",
      "Cox & Snell R^2: 0.11\n"
     ]
    }
   ],
   "source": [
    "import pandas as pd\n",
    "import numpy as np\n",
    "import statsmodels.api as sm\n",
    "from statsmodels.formula.api import probit\n",
    "\n",
    "# Загрузка данных\n",
    "file_path = 'TableF5-1.csv'\n",
    "data = pd.read_csv(file_path)\n",
    "\n",
    "# Оценка probit-модели\n",
    "probit_model = probit('LFP ~ WA + I(WA**2) + FAMINC + I(FAMINC**2) + KL6 + K618 + CIT + UN', data)\n",
    "probit_result = probit_model.fit()\n",
    "print(probit_result.summary())\n",
    "\n",
    "# Вычисление показателя качества подгонки Cox & Snell R^2\n",
    "n = len(data)\n",
    "ll_null = probit('LFP ~ 1', data).fit(disp=0).llf  # Лог-функция правдоподобия для модели только с константой\n",
    "ll_model = probit_result.llf  # Лог-функция правдоподобия для полной модели\n",
    "cox_snell_r2 = 1 - np.exp((ll_null - ll_model) * 2 / n)\n",
    "\n",
    "# Вывод результатов\n",
    "print(f\"Cox & Snell R^2: {round(cox_snell_r2, 3)}\")\n"
   ]
  },
  {
   "cell_type": "markdown",
   "id": "58be1c97",
   "metadata": {},
   "source": [
    "# Тип 9 Задача 1"
   ]
  },
  {
   "cell_type": "markdown",
   "id": "15bbcd3b",
   "metadata": {},
   "source": [
    "Для датасета TableF5-1 оцените logit-регрессию LFP~WA+WE+KL6+K618+CIT+UN\n",
    "\n",
    "Рассмотрим двух женщин с характеристиками\n",
    "\n",
    "WA WE KL6 K618 CIT UN\n",
    "\n",
    "0 34 15 2 0 0 5\n",
    "\n",
    "1 39 14 1 1 1 2\n",
    "\n",
    "Постройте прогноз для женщины с индексом 1. Ответ округлите до 3 десятичных знаков"
   ]
  },
  {
   "cell_type": "code",
   "execution_count": 15,
   "id": "d62177df",
   "metadata": {},
   "outputs": [
    {
     "name": "stdout",
     "output_type": "stream",
     "text": [
      "Optimization terminated successfully.\n",
      "         Current function value: 0.618039\n",
      "         Iterations 5\n",
      "0.2902\n"
     ]
    }
   ],
   "source": [
    "import pandas as pd\n",
    "import statsmodels.api as sm\n",
    "\n",
    "# Загрузка данных\n",
    "data = pd.read_csv('TableF5-1.csv')\n",
    "\n",
    "# Оценка logit-модели\n",
    "logit_model = sm.Logit(data['LFP'], data[['WA', 'WE', 'KL6', 'K618', 'CIT', 'UN']]).fit()\n",
    "\n",
    "# Данные для женщины с индексом 0\n",
    "woman_data = pd.DataFrame({'WA': [34], 'WE': [15], 'KL6': [2], 'K618': [0], 'CIT': [0], 'UN': [5]})\n",
    "\n",
    "# Предсказание для женщины с индексом 0\n",
    "predicted_lfp = logit_model.predict(woman_data)\n",
    "\n",
    "# Округление результата\n",
    "predicted_lfp_rounded = round(predicted_lfp.iloc[0], 4)\n",
    "print(predicted_lfp_rounded)\n"
   ]
  },
  {
   "cell_type": "markdown",
   "id": "bb96e391",
   "metadata": {},
   "source": [
    "# Тип 9 Задача 2"
   ]
  },
  {
   "cell_type": "markdown",
   "id": "dbf746f4",
   "metadata": {},
   "source": [
    "Пля датасета TableF5-1 оцените probit-регрессию LFP~WA+WE+KL6+K618+CIT+UN\n",
    "Рассмотрим двух женщин с характеристиками\n",
    "\n",
    "   WA  WE  KL6  K618  CIT  UN\n",
    "   \n",
    "0  34  15    2     0    0   5\n",
    "\n",
    "1  39  14    1     1    1   2\n",
    "\n",
    "Постройте прогноз для женщины с индексом 1. Ответ округлите по 3 десятичных знаков"
   ]
  },
  {
   "cell_type": "code",
   "execution_count": 53,
   "id": "807ca801",
   "metadata": {},
   "outputs": [
    {
     "name": "stdout",
     "output_type": "stream",
     "text": [
      "Optimization terminated successfully.\n",
      "         Current function value: 0.616871\n",
      "         Iterations 5\n",
      "0.469\n"
     ]
    }
   ],
   "source": [
    "import pandas as pd\n",
    "import numpy as np\n",
    "import statsmodels.api as sm\n",
    "from statsmodels.discrete.discrete_model import Probit\n",
    "\n",
    "# Загрузка данных\n",
    "data = pd.read_csv('TableF5-1.csv')\n",
    "\n",
    "# Определение зависимой и независимых переменных для Probit-модели\n",
    "dependent_var = data['LFP']\n",
    "independent_vars_probit = data[['WA', 'WE', 'KL6', 'K618', 'CIT', 'UN']]\n",
    "\n",
    "# Оценка Probit-модели\n",
    "probit_model = Probit(dependent_var, sm.add_constant(independent_vars_probit)).fit()\n",
    "\n",
    "# Данные для прогноза (женщина с индексом 1)\n",
    "predict_data_woman1 = pd.DataFrame({\n",
    "    \"const\": 1,  # Добавление константы для модели\n",
    "    \"WA\": [39],\n",
    "    \"WE\": [14],\n",
    "    \"KL6\": [1],\n",
    "    \"K618\": [1],\n",
    "    \"CIT\": [1],\n",
    "    \"UN\": [2]\n",
    "})\n",
    "\n",
    "# Прогноз для женщины с индексом 1\n",
    "predicted_lfp_woman1 = probit_model.predict(predict_data_woman1)\n",
    "\n",
    "# Вывод прогноза\n",
    "print(round(predicted_lfp_woman1[0], 3))\n"
   ]
  },
  {
   "cell_type": "markdown",
   "id": "797949b4",
   "metadata": {},
   "source": [
    "# Тип 10 Задача 1"
   ]
  },
  {
   "cell_type": "markdown",
   "id": "3aa5ee79",
   "metadata": {},
   "source": [
    "Для датасета TableF5-1 оцените logit-регрессию LFP~WA+WE+KL6+K618+CIT+UN \n",
    "Вычислите предельный эффект для переменной KL6 в средней точке. Ответ округлите до 3 десятичных знаков"
   ]
  },
  {
   "cell_type": "code",
   "execution_count": 29,
   "id": "19e85ccd",
   "metadata": {},
   "outputs": [
    {
     "name": "stdout",
     "output_type": "stream",
     "text": [
      "Optimization terminated successfully.\n",
      "         Current function value: 0.616734\n",
      "         Iterations 5\n",
      "Предельный эффект для KL6 в средней точке: -0.359\n"
     ]
    }
   ],
   "source": [
    "import pandas as pd\n",
    "import statsmodels.api as sm\n",
    "from statsmodels.discrete.discrete_model import Logit\n",
    "\n",
    "# Загрузка данных\n",
    "file_path = 'TableF5-1.csv'  \n",
    "data = pd.read_csv(file_path)\n",
    "\n",
    "# Выбор переменных для регрессии\n",
    "X = data[['WA', 'WE', 'KL6', 'K618', 'CIT', 'UN']]\n",
    "y = data['LFP']\n",
    "\n",
    "# Добавление константы к независимым переменным\n",
    "X = sm.add_constant(X)\n",
    "\n",
    "# Оценка logit-модели\n",
    "logit_model = Logit(y, X).fit()\n",
    "\n",
    "# Расчет предельных эффектов в средней точке\n",
    "mfx_logit = logit_model.get_margeff(at='mean').summary_frame()\n",
    "\n",
    "# Получение предельного эффекта для KL6 и его вывод\n",
    "kl6_marginal_effect_at_mean = mfx_logit.loc['KL6', 'dy/dx']\n",
    "print(f\"Предельный эффект для KL6 в средней точке: {kl6_marginal_effect_at_mean:.3f}\")\n"
   ]
  },
  {
   "cell_type": "code",
   "execution_count": null,
   "id": "9096ca41",
   "metadata": {},
   "outputs": [],
   "source": []
  }
 ],
 "metadata": {
  "kernelspec": {
   "display_name": "Python 3 (ipykernel)",
   "language": "python",
   "name": "python3"
  },
  "language_info": {
   "codemirror_mode": {
    "name": "ipython",
    "version": 3
   },
   "file_extension": ".py",
   "mimetype": "text/x-python",
   "name": "python",
   "nbconvert_exporter": "python",
   "pygments_lexer": "ipython3",
   "version": "3.11.5"
  }
 },
 "nbformat": 4,
 "nbformat_minor": 5
}
